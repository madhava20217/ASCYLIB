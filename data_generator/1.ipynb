{
 "cells": [
  {
   "cell_type": "code",
   "execution_count": 1,
   "metadata": {},
   "outputs": [],
   "source": [
    "import numpy as np\n",
    "import pandas as pd\n",
    "nvals = 1000000"
   ]
  },
  {
   "cell_type": "code",
   "execution_count": 2,
   "metadata": {},
   "outputs": [],
   "source": [
    "init_arr = np.random.randint(nvals, size = nvals)\n",
    "update_arr = np.random.randint(nvals, size = nvals)\n",
    "delete_arr = np.random.randint(nvals, size = nvals)\n",
    "search_arr = np.random.randint(nvals, size = nvals);"
   ]
  },
  {
   "cell_type": "code",
   "execution_count": 3,
   "metadata": {},
   "outputs": [],
   "source": [
    "init_arr = init_arr.astype(int)\n",
    "update_arr = update_arr.astype(int)\n",
    "delete_arr = delete_arr.astype(int)\n",
    "search_arr = search_arr.astype(int)"
   ]
  },
  {
   "cell_type": "code",
   "execution_count": 4,
   "metadata": {},
   "outputs": [
    {
     "name": "stdout",
     "output_type": "stream",
     "text": [
      "632290 632516 631437 632755\n"
     ]
    }
   ],
   "source": [
    "print(len(np.unique(init_arr)),\n",
    "    len(np.unique(update_arr)),\n",
    "    len(np.unique(delete_arr)),\n",
    "    len(np.unique(search_arr))\n",
    ")"
   ]
  },
  {
   "cell_type": "code",
   "execution_count": 5,
   "metadata": {},
   "outputs": [],
   "source": [
    "init_path = \"../data/init.csv\"\n",
    "update_path = \"../data/update.csv\"\n",
    "delete_path = \"../data/delete.csv\"\n",
    "search_path = \"../data/search.csv\""
   ]
  },
  {
   "cell_type": "code",
   "execution_count": 6,
   "metadata": {},
   "outputs": [],
   "source": [
    "pd.DataFrame(init_arr).to_csv(init_path, index =False, header =False)\n",
    "pd.DataFrame(update_arr).to_csv(update_path, index =False, header =False)\n",
    "pd.DataFrame(delete_arr).to_csv(delete_path, index =False, header =False)\n",
    "pd.DataFrame(search_arr).to_csv(search_path, index =False, header =False)"
   ]
  }
 ],
 "metadata": {
  "kernelspec": {
   "display_name": "Python 3.9.12 ('tensorflow')",
   "language": "python",
   "name": "python3"
  },
  "language_info": {
   "codemirror_mode": {
    "name": "ipython",
    "version": 3
   },
   "file_extension": ".py",
   "mimetype": "text/x-python",
   "name": "python",
   "nbconvert_exporter": "python",
   "pygments_lexer": "ipython3",
   "version": "3.9.12"
  },
  "orig_nbformat": 4,
  "vscode": {
   "interpreter": {
    "hash": "fbaff697ec93f4d5cb43cee7009b6d996906a7f46644467bf93430fc53f3bef1"
   }
  }
 },
 "nbformat": 4,
 "nbformat_minor": 2
}
